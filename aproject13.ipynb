{
 "cells": [
  {
   "cell_type": "code",
   "execution_count": null,
   "id": "e5c8c40e-d4e2-47ab-b171-74ec0131f8ce",
   "metadata": {},
   "outputs": [],
   "source": [
    "def writefirstletter(name):\n",
    "    for name in namelist:\n",
    "        print(f\"first letter of {name} is {name[0]}\")\n",
    "namelist=[]\n",
    "while True:\n",
    "    name=input(\"what is the name you went for?\")\n",
    "    if name.lower()==\"q\":\n",
    "     break\n",
    "    namelist.append(name)\n",
    "    print(\"namelist:\",namelist)\n",
    "writefirstletter(namelist)\n"
   ]
  }
 ],
 "metadata": {
  "kernelspec": {
   "display_name": "Python 3 (ipykernel)",
   "language": "python",
   "name": "python3"
  },
  "language_info": {
   "codemirror_mode": {
    "name": "ipython",
    "version": 3
   },
   "file_extension": ".py",
   "mimetype": "text/x-python",
   "name": "python",
   "nbconvert_exporter": "python",
   "pygments_lexer": "ipython3",
   "version": "3.12.4"
  }
 },
 "nbformat": 4,
 "nbformat_minor": 5
}
